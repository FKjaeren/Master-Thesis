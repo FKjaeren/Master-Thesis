{
 "cells": [
  {
   "cell_type": "markdown",
   "id": "f6a5bc2c",
   "metadata": {},
   "source": [
    "# Preprocess data"
   ]
  },
  {
   "cell_type": "markdown",
   "id": "e9abd4c2",
   "metadata": {},
   "source": [
    "## Initialize"
   ]
  },
  {
   "cell_type": "code",
   "execution_count": 1,
   "id": "962edcec",
   "metadata": {},
   "outputs": [],
   "source": [
    "import numpy as np\n",
    "import pandas as pd\n",
    "import tensorflow as tf"
   ]
  },
  {
   "cell_type": "code",
   "execution_count": 2,
   "id": "6b008bc6",
   "metadata": {},
   "outputs": [],
   "source": [
    "data_path = '../Data/Raw/'\n"
   ]
  },
  {
   "cell_type": "markdown",
   "id": "3c35d63c",
   "metadata": {},
   "source": [
    "## Load data"
   ]
  },
  {
   "cell_type": "code",
   "execution_count": 3,
   "id": "871297fb",
   "metadata": {},
   "outputs": [],
   "source": [
    "articles_df = pd.read_csv(data_path+'articles.csv')\n",
    "customer_df = pd.read_csv(data_path+'customers.csv')\n",
    "transactions_df = pd.read_csv(data_path+'transactions_train.csv')"
   ]
  },
  {
   "cell_type": "markdown",
   "id": "23190ae7",
   "metadata": {},
   "source": [
    "## Explore data"
   ]
  },
  {
   "cell_type": "code",
   "execution_count": 4,
   "id": "0f2fc177",
   "metadata": {},
   "outputs": [
    {
     "data": {
      "text/html": [
       "<div>\n",
       "<style scoped>\n",
       "    .dataframe tbody tr th:only-of-type {\n",
       "        vertical-align: middle;\n",
       "    }\n",
       "\n",
       "    .dataframe tbody tr th {\n",
       "        vertical-align: top;\n",
       "    }\n",
       "\n",
       "    .dataframe thead th {\n",
       "        text-align: right;\n",
       "    }\n",
       "</style>\n",
       "<table border=\"1\" class=\"dataframe\">\n",
       "  <thead>\n",
       "    <tr style=\"text-align: right;\">\n",
       "      <th></th>\n",
       "      <th>customer_id</th>\n",
       "      <th>age</th>\n",
       "      <th>club_member_status</th>\n",
       "    </tr>\n",
       "  </thead>\n",
       "  <tbody>\n",
       "    <tr>\n",
       "      <th>0</th>\n",
       "      <td>00000dbacae5abe5e23885899a1fa44253a17956c6d1c3...</td>\n",
       "      <td>49.0</td>\n",
       "      <td>ACTIVE</td>\n",
       "    </tr>\n",
       "    <tr>\n",
       "      <th>1</th>\n",
       "      <td>0000423b00ade91418cceaf3b26c6af3dd342b51fd051e...</td>\n",
       "      <td>25.0</td>\n",
       "      <td>ACTIVE</td>\n",
       "    </tr>\n",
       "    <tr>\n",
       "      <th>2</th>\n",
       "      <td>000058a12d5b43e67d225668fa1f8d618c13dc232df0ca...</td>\n",
       "      <td>24.0</td>\n",
       "      <td>ACTIVE</td>\n",
       "    </tr>\n",
       "    <tr>\n",
       "      <th>3</th>\n",
       "      <td>00005ca1c9ed5f5146b52ac8639a40ca9d57aeff4d1bd2...</td>\n",
       "      <td>54.0</td>\n",
       "      <td>ACTIVE</td>\n",
       "    </tr>\n",
       "    <tr>\n",
       "      <th>4</th>\n",
       "      <td>00006413d8573cd20ed7128e53b7b13819fe5cfc2d801f...</td>\n",
       "      <td>52.0</td>\n",
       "      <td>ACTIVE</td>\n",
       "    </tr>\n",
       "    <tr>\n",
       "      <th>...</th>\n",
       "      <td>...</td>\n",
       "      <td>...</td>\n",
       "      <td>...</td>\n",
       "    </tr>\n",
       "    <tr>\n",
       "      <th>1371975</th>\n",
       "      <td>ffffbbf78b6eaac697a8a5dfbfd2bfa8113ee5b403e474...</td>\n",
       "      <td>24.0</td>\n",
       "      <td>ACTIVE</td>\n",
       "    </tr>\n",
       "    <tr>\n",
       "      <th>1371976</th>\n",
       "      <td>ffffcd5046a6143d29a04fb8c424ce494a76e5cdf4fab5...</td>\n",
       "      <td>21.0</td>\n",
       "      <td>ACTIVE</td>\n",
       "    </tr>\n",
       "    <tr>\n",
       "      <th>1371977</th>\n",
       "      <td>ffffcf35913a0bee60e8741cb2b4e78b8a98ee5ff2e6a1...</td>\n",
       "      <td>21.0</td>\n",
       "      <td>ACTIVE</td>\n",
       "    </tr>\n",
       "    <tr>\n",
       "      <th>1371978</th>\n",
       "      <td>ffffd7744cebcf3aca44ae7049d2a94b87074c3d4ffe38...</td>\n",
       "      <td>18.0</td>\n",
       "      <td>ACTIVE</td>\n",
       "    </tr>\n",
       "    <tr>\n",
       "      <th>1371979</th>\n",
       "      <td>ffffd9ac14e89946416d80e791d064701994755c3ab686...</td>\n",
       "      <td>65.0</td>\n",
       "      <td>PRE-CREATE</td>\n",
       "    </tr>\n",
       "  </tbody>\n",
       "</table>\n",
       "<p>1356119 rows × 3 columns</p>\n",
       "</div>"
      ],
      "text/plain": [
       "                                               customer_id   age  \\\n",
       "0        00000dbacae5abe5e23885899a1fa44253a17956c6d1c3...  49.0   \n",
       "1        0000423b00ade91418cceaf3b26c6af3dd342b51fd051e...  25.0   \n",
       "2        000058a12d5b43e67d225668fa1f8d618c13dc232df0ca...  24.0   \n",
       "3        00005ca1c9ed5f5146b52ac8639a40ca9d57aeff4d1bd2...  54.0   \n",
       "4        00006413d8573cd20ed7128e53b7b13819fe5cfc2d801f...  52.0   \n",
       "...                                                    ...   ...   \n",
       "1371975  ffffbbf78b6eaac697a8a5dfbfd2bfa8113ee5b403e474...  24.0   \n",
       "1371976  ffffcd5046a6143d29a04fb8c424ce494a76e5cdf4fab5...  21.0   \n",
       "1371977  ffffcf35913a0bee60e8741cb2b4e78b8a98ee5ff2e6a1...  21.0   \n",
       "1371978  ffffd7744cebcf3aca44ae7049d2a94b87074c3d4ffe38...  18.0   \n",
       "1371979  ffffd9ac14e89946416d80e791d064701994755c3ab686...  65.0   \n",
       "\n",
       "        club_member_status  \n",
       "0                   ACTIVE  \n",
       "1                   ACTIVE  \n",
       "2                   ACTIVE  \n",
       "3                   ACTIVE  \n",
       "4                   ACTIVE  \n",
       "...                    ...  \n",
       "1371975             ACTIVE  \n",
       "1371976             ACTIVE  \n",
       "1371977             ACTIVE  \n",
       "1371978             ACTIVE  \n",
       "1371979         PRE-CREATE  \n",
       "\n",
       "[1356119 rows x 3 columns]"
      ]
     },
     "execution_count": 4,
     "metadata": {},
     "output_type": "execute_result"
    }
   ],
   "source": [
    "# Preprocess customer dataframe\n",
    "# check for NaN and make a subset with relevant columns\n",
    "percent_c = (customer_df.isnull().sum()/customer_df.isnull().count()*100).sort_values(ascending = False)\n",
    "df_c = customer_df[['customer_id','age', 'club_member_status']]\n",
    "df_c.dropna(subset=['age'])\n",
    "\n"
   ]
  },
  {
   "cell_type": "code",
   "execution_count": 5,
   "id": "5ae7a51e",
   "metadata": {},
   "outputs": [],
   "source": [
    "# Preprocess article dataframe\n",
    "# subset relevant columns\n",
    "df_a = articles_df[['article_id','product_type_no', 'prod_name', 'product_type_name', 'product_group_name', 'colour_group_name', 'department_name', 'section_name']]\n",
    "# check for NaN\n",
    "percent_a = (df_a.isnull().sum()/df_a.isnull().count()*100).sort_values(ascending = False)"
   ]
  },
  {
   "cell_type": "markdown",
   "id": "c11f9185",
   "metadata": {},
   "source": [
    "## Preprocess Data"
   ]
  },
  {
   "cell_type": "code",
   "execution_count": 6,
   "id": "c6899bb9",
   "metadata": {},
   "outputs": [],
   "source": [
    "# Preprocess transaction train dataframe\n",
    "#datetime and create a month column\n",
    "transactions_df.t_dat = pd.to_datetime(transactions_df.t_dat)\n",
    "transactions_df['month'] =  pd.DatetimeIndex(transactions_df['t_dat']).month\n",
    "transactions_df['year'] =  pd.DatetimeIndex(transactions_df['t_dat']).year\n",
    "transactions_df['day'] =  pd.DatetimeIndex(transactions_df['t_dat']).day\n",
    "\n",
    "\n",
    "\n",
    "transactions_df.loc[(transactions_df['month']>= 1) & (transactions_df['month'] <=2), 'season'] = 'Winter'\n",
    "transactions_df.loc[(transactions_df['month'] == 12), 'season'] = 'Winter' \n",
    "transactions_df.loc[(transactions_df['month'] >= 3) & (transactions_df['month'] <=5), 'season'] = 'Spring' \n",
    "transactions_df.loc[(transactions_df['month'] >= 6) & (transactions_df['month'] <=8),'season'] = 'Summer' \n",
    "transactions_df.loc[(transactions_df['month'] >= 9) & (transactions_df['month'] <=11), 'season'] = 'Autumn' "
   ]
  },
  {
   "cell_type": "code",
   "execution_count": 7,
   "id": "5e2dff65",
   "metadata": {},
   "outputs": [
    {
     "data": {
      "text/html": [
       "<div>\n",
       "<style scoped>\n",
       "    .dataframe tbody tr th:only-of-type {\n",
       "        vertical-align: middle;\n",
       "    }\n",
       "\n",
       "    .dataframe tbody tr th {\n",
       "        vertical-align: top;\n",
       "    }\n",
       "\n",
       "    .dataframe thead th {\n",
       "        text-align: right;\n",
       "    }\n",
       "</style>\n",
       "<table border=\"1\" class=\"dataframe\">\n",
       "  <thead>\n",
       "    <tr style=\"text-align: right;\">\n",
       "      <th></th>\n",
       "      <th>t_dat</th>\n",
       "      <th>customer_id</th>\n",
       "      <th>article_id</th>\n",
       "      <th>price</th>\n",
       "      <th>sales_channel_id</th>\n",
       "      <th>month</th>\n",
       "      <th>year</th>\n",
       "      <th>day</th>\n",
       "      <th>season</th>\n",
       "    </tr>\n",
       "  </thead>\n",
       "  <tbody>\n",
       "    <tr>\n",
       "      <th>0</th>\n",
       "      <td>2018-09-20</td>\n",
       "      <td>000058a12d5b43e67d225668fa1f8d618c13dc232df0ca...</td>\n",
       "      <td>663713001</td>\n",
       "      <td>0.050831</td>\n",
       "      <td>2</td>\n",
       "      <td>9</td>\n",
       "      <td>2018</td>\n",
       "      <td>20</td>\n",
       "      <td>Autumn</td>\n",
       "    </tr>\n",
       "    <tr>\n",
       "      <th>1</th>\n",
       "      <td>2018-09-20</td>\n",
       "      <td>000058a12d5b43e67d225668fa1f8d618c13dc232df0ca...</td>\n",
       "      <td>541518023</td>\n",
       "      <td>0.030492</td>\n",
       "      <td>2</td>\n",
       "      <td>9</td>\n",
       "      <td>2018</td>\n",
       "      <td>20</td>\n",
       "      <td>Autumn</td>\n",
       "    </tr>\n",
       "    <tr>\n",
       "      <th>2</th>\n",
       "      <td>2018-09-20</td>\n",
       "      <td>00007d2de826758b65a93dd24ce629ed66842531df6699...</td>\n",
       "      <td>505221004</td>\n",
       "      <td>0.015237</td>\n",
       "      <td>2</td>\n",
       "      <td>9</td>\n",
       "      <td>2018</td>\n",
       "      <td>20</td>\n",
       "      <td>Autumn</td>\n",
       "    </tr>\n",
       "    <tr>\n",
       "      <th>3</th>\n",
       "      <td>2018-09-20</td>\n",
       "      <td>00007d2de826758b65a93dd24ce629ed66842531df6699...</td>\n",
       "      <td>685687003</td>\n",
       "      <td>0.016932</td>\n",
       "      <td>2</td>\n",
       "      <td>9</td>\n",
       "      <td>2018</td>\n",
       "      <td>20</td>\n",
       "      <td>Autumn</td>\n",
       "    </tr>\n",
       "    <tr>\n",
       "      <th>4</th>\n",
       "      <td>2018-09-20</td>\n",
       "      <td>00007d2de826758b65a93dd24ce629ed66842531df6699...</td>\n",
       "      <td>685687004</td>\n",
       "      <td>0.016932</td>\n",
       "      <td>2</td>\n",
       "      <td>9</td>\n",
       "      <td>2018</td>\n",
       "      <td>20</td>\n",
       "      <td>Autumn</td>\n",
       "    </tr>\n",
       "  </tbody>\n",
       "</table>\n",
       "</div>"
      ],
      "text/plain": [
       "       t_dat                                        customer_id  article_id  \\\n",
       "0 2018-09-20  000058a12d5b43e67d225668fa1f8d618c13dc232df0ca...   663713001   \n",
       "1 2018-09-20  000058a12d5b43e67d225668fa1f8d618c13dc232df0ca...   541518023   \n",
       "2 2018-09-20  00007d2de826758b65a93dd24ce629ed66842531df6699...   505221004   \n",
       "3 2018-09-20  00007d2de826758b65a93dd24ce629ed66842531df6699...   685687003   \n",
       "4 2018-09-20  00007d2de826758b65a93dd24ce629ed66842531df6699...   685687004   \n",
       "\n",
       "      price  sales_channel_id  month  year  day  season  \n",
       "0  0.050831                 2      9  2018   20  Autumn  \n",
       "1  0.030492                 2      9  2018   20  Autumn  \n",
       "2  0.015237                 2      9  2018   20  Autumn  \n",
       "3  0.016932                 2      9  2018   20  Autumn  \n",
       "4  0.016932                 2      9  2018   20  Autumn  "
      ]
     },
     "execution_count": 7,
     "metadata": {},
     "output_type": "execute_result"
    }
   ],
   "source": [
    "transactions_df.head()"
   ]
  },
  {
   "cell_type": "code",
   "execution_count": 8,
   "id": "8ae4301c",
   "metadata": {},
   "outputs": [
    {
     "data": {
      "text/html": [
       "<div>\n",
       "<style scoped>\n",
       "    .dataframe tbody tr th:only-of-type {\n",
       "        vertical-align: middle;\n",
       "    }\n",
       "\n",
       "    .dataframe tbody tr th {\n",
       "        vertical-align: top;\n",
       "    }\n",
       "\n",
       "    .dataframe thead th {\n",
       "        text-align: right;\n",
       "    }\n",
       "</style>\n",
       "<table border=\"1\" class=\"dataframe\">\n",
       "  <thead>\n",
       "    <tr style=\"text-align: right;\">\n",
       "      <th></th>\n",
       "      <th>article_id</th>\n",
       "      <th>product_type_no</th>\n",
       "      <th>prod_name</th>\n",
       "      <th>product_type_name</th>\n",
       "      <th>product_group_name</th>\n",
       "      <th>colour_group_name</th>\n",
       "      <th>department_name</th>\n",
       "      <th>section_name</th>\n",
       "    </tr>\n",
       "  </thead>\n",
       "  <tbody>\n",
       "    <tr>\n",
       "      <th>0</th>\n",
       "      <td>108775015</td>\n",
       "      <td>253</td>\n",
       "      <td>Strap top</td>\n",
       "      <td>Vest top</td>\n",
       "      <td>Garment Upper body</td>\n",
       "      <td>Black</td>\n",
       "      <td>Jersey Basic</td>\n",
       "      <td>Womens Everyday Basics</td>\n",
       "    </tr>\n",
       "    <tr>\n",
       "      <th>1</th>\n",
       "      <td>108775044</td>\n",
       "      <td>253</td>\n",
       "      <td>Strap top</td>\n",
       "      <td>Vest top</td>\n",
       "      <td>Garment Upper body</td>\n",
       "      <td>White</td>\n",
       "      <td>Jersey Basic</td>\n",
       "      <td>Womens Everyday Basics</td>\n",
       "    </tr>\n",
       "    <tr>\n",
       "      <th>2</th>\n",
       "      <td>108775051</td>\n",
       "      <td>253</td>\n",
       "      <td>Strap top (1)</td>\n",
       "      <td>Vest top</td>\n",
       "      <td>Garment Upper body</td>\n",
       "      <td>Off White</td>\n",
       "      <td>Jersey Basic</td>\n",
       "      <td>Womens Everyday Basics</td>\n",
       "    </tr>\n",
       "    <tr>\n",
       "      <th>3</th>\n",
       "      <td>110065001</td>\n",
       "      <td>306</td>\n",
       "      <td>OP T-shirt (Idro)</td>\n",
       "      <td>Bra</td>\n",
       "      <td>Underwear</td>\n",
       "      <td>Black</td>\n",
       "      <td>Clean Lingerie</td>\n",
       "      <td>Womens Lingerie</td>\n",
       "    </tr>\n",
       "    <tr>\n",
       "      <th>4</th>\n",
       "      <td>110065002</td>\n",
       "      <td>306</td>\n",
       "      <td>OP T-shirt (Idro)</td>\n",
       "      <td>Bra</td>\n",
       "      <td>Underwear</td>\n",
       "      <td>White</td>\n",
       "      <td>Clean Lingerie</td>\n",
       "      <td>Womens Lingerie</td>\n",
       "    </tr>\n",
       "  </tbody>\n",
       "</table>\n",
       "</div>"
      ],
      "text/plain": [
       "   article_id  product_type_no          prod_name product_type_name  \\\n",
       "0   108775015              253          Strap top          Vest top   \n",
       "1   108775044              253          Strap top          Vest top   \n",
       "2   108775051              253      Strap top (1)          Vest top   \n",
       "3   110065001              306  OP T-shirt (Idro)               Bra   \n",
       "4   110065002              306  OP T-shirt (Idro)               Bra   \n",
       "\n",
       "   product_group_name colour_group_name department_name  \\\n",
       "0  Garment Upper body             Black    Jersey Basic   \n",
       "1  Garment Upper body             White    Jersey Basic   \n",
       "2  Garment Upper body         Off White    Jersey Basic   \n",
       "3           Underwear             Black  Clean Lingerie   \n",
       "4           Underwear             White  Clean Lingerie   \n",
       "\n",
       "             section_name  \n",
       "0  Womens Everyday Basics  \n",
       "1  Womens Everyday Basics  \n",
       "2  Womens Everyday Basics  \n",
       "3         Womens Lingerie  \n",
       "4         Womens Lingerie  "
      ]
     },
     "execution_count": 8,
     "metadata": {},
     "output_type": "execute_result"
    }
   ],
   "source": [
    "df_a.head()"
   ]
  },
  {
   "cell_type": "code",
   "execution_count": 9,
   "id": "3777db8c",
   "metadata": {},
   "outputs": [],
   "source": [
    "X = transactions_df.iloc[0:20000].merge(df_a, how = \"left\", on = \"article_id\")"
   ]
  },
  {
   "cell_type": "code",
   "execution_count": 10,
   "id": "460342d3",
   "metadata": {},
   "outputs": [
    {
     "data": {
      "text/html": [
       "<div>\n",
       "<style scoped>\n",
       "    .dataframe tbody tr th:only-of-type {\n",
       "        vertical-align: middle;\n",
       "    }\n",
       "\n",
       "    .dataframe tbody tr th {\n",
       "        vertical-align: top;\n",
       "    }\n",
       "\n",
       "    .dataframe thead th {\n",
       "        text-align: right;\n",
       "    }\n",
       "</style>\n",
       "<table border=\"1\" class=\"dataframe\">\n",
       "  <thead>\n",
       "    <tr style=\"text-align: right;\">\n",
       "      <th></th>\n",
       "      <th>t_dat</th>\n",
       "      <th>customer_id</th>\n",
       "      <th>article_id</th>\n",
       "      <th>price</th>\n",
       "      <th>sales_channel_id</th>\n",
       "      <th>month</th>\n",
       "      <th>year</th>\n",
       "      <th>day</th>\n",
       "      <th>season</th>\n",
       "      <th>product_type_no</th>\n",
       "      <th>prod_name</th>\n",
       "      <th>product_type_name</th>\n",
       "      <th>product_group_name</th>\n",
       "      <th>colour_group_name</th>\n",
       "      <th>department_name</th>\n",
       "      <th>section_name</th>\n",
       "    </tr>\n",
       "  </thead>\n",
       "  <tbody>\n",
       "    <tr>\n",
       "      <th>0</th>\n",
       "      <td>2018-09-20</td>\n",
       "      <td>000058a12d5b43e67d225668fa1f8d618c13dc232df0ca...</td>\n",
       "      <td>663713001</td>\n",
       "      <td>0.050831</td>\n",
       "      <td>2</td>\n",
       "      <td>9</td>\n",
       "      <td>2018</td>\n",
       "      <td>20</td>\n",
       "      <td>Autumn</td>\n",
       "      <td>283</td>\n",
       "      <td>Atlanta Push Body Harlow</td>\n",
       "      <td>Underwear body</td>\n",
       "      <td>Underwear</td>\n",
       "      <td>Black</td>\n",
       "      <td>Expressive Lingerie</td>\n",
       "      <td>Womens Lingerie</td>\n",
       "    </tr>\n",
       "    <tr>\n",
       "      <th>1</th>\n",
       "      <td>2018-09-20</td>\n",
       "      <td>000058a12d5b43e67d225668fa1f8d618c13dc232df0ca...</td>\n",
       "      <td>541518023</td>\n",
       "      <td>0.030492</td>\n",
       "      <td>2</td>\n",
       "      <td>9</td>\n",
       "      <td>2018</td>\n",
       "      <td>20</td>\n",
       "      <td>Autumn</td>\n",
       "      <td>306</td>\n",
       "      <td>Rae Push (Melbourne) 2p</td>\n",
       "      <td>Bra</td>\n",
       "      <td>Underwear</td>\n",
       "      <td>Light Pink</td>\n",
       "      <td>Casual Lingerie</td>\n",
       "      <td>Womens Lingerie</td>\n",
       "    </tr>\n",
       "    <tr>\n",
       "      <th>2</th>\n",
       "      <td>2018-09-20</td>\n",
       "      <td>00007d2de826758b65a93dd24ce629ed66842531df6699...</td>\n",
       "      <td>505221004</td>\n",
       "      <td>0.015237</td>\n",
       "      <td>2</td>\n",
       "      <td>9</td>\n",
       "      <td>2018</td>\n",
       "      <td>20</td>\n",
       "      <td>Autumn</td>\n",
       "      <td>252</td>\n",
       "      <td>Inca Jumper</td>\n",
       "      <td>Sweater</td>\n",
       "      <td>Garment Upper body</td>\n",
       "      <td>Pink</td>\n",
       "      <td>Tops Knitwear DS</td>\n",
       "      <td>Divided Selected</td>\n",
       "    </tr>\n",
       "    <tr>\n",
       "      <th>3</th>\n",
       "      <td>2018-09-20</td>\n",
       "      <td>00007d2de826758b65a93dd24ce629ed66842531df6699...</td>\n",
       "      <td>685687003</td>\n",
       "      <td>0.016932</td>\n",
       "      <td>2</td>\n",
       "      <td>9</td>\n",
       "      <td>2018</td>\n",
       "      <td>20</td>\n",
       "      <td>Autumn</td>\n",
       "      <td>252</td>\n",
       "      <td>W YODA KNIT OL OFFER</td>\n",
       "      <td>Sweater</td>\n",
       "      <td>Garment Upper body</td>\n",
       "      <td>Pink</td>\n",
       "      <td>Campaigns</td>\n",
       "      <td>Womens Everyday Collection</td>\n",
       "    </tr>\n",
       "    <tr>\n",
       "      <th>4</th>\n",
       "      <td>2018-09-20</td>\n",
       "      <td>00007d2de826758b65a93dd24ce629ed66842531df6699...</td>\n",
       "      <td>685687004</td>\n",
       "      <td>0.016932</td>\n",
       "      <td>2</td>\n",
       "      <td>9</td>\n",
       "      <td>2018</td>\n",
       "      <td>20</td>\n",
       "      <td>Autumn</td>\n",
       "      <td>252</td>\n",
       "      <td>W YODA KNIT OL OFFER</td>\n",
       "      <td>Sweater</td>\n",
       "      <td>Garment Upper body</td>\n",
       "      <td>Dark Green</td>\n",
       "      <td>Campaigns</td>\n",
       "      <td>Womens Everyday Collection</td>\n",
       "    </tr>\n",
       "  </tbody>\n",
       "</table>\n",
       "</div>"
      ],
      "text/plain": [
       "       t_dat                                        customer_id  article_id  \\\n",
       "0 2018-09-20  000058a12d5b43e67d225668fa1f8d618c13dc232df0ca...   663713001   \n",
       "1 2018-09-20  000058a12d5b43e67d225668fa1f8d618c13dc232df0ca...   541518023   \n",
       "2 2018-09-20  00007d2de826758b65a93dd24ce629ed66842531df6699...   505221004   \n",
       "3 2018-09-20  00007d2de826758b65a93dd24ce629ed66842531df6699...   685687003   \n",
       "4 2018-09-20  00007d2de826758b65a93dd24ce629ed66842531df6699...   685687004   \n",
       "\n",
       "      price  sales_channel_id  month  year  day  season  product_type_no  \\\n",
       "0  0.050831                 2      9  2018   20  Autumn              283   \n",
       "1  0.030492                 2      9  2018   20  Autumn              306   \n",
       "2  0.015237                 2      9  2018   20  Autumn              252   \n",
       "3  0.016932                 2      9  2018   20  Autumn              252   \n",
       "4  0.016932                 2      9  2018   20  Autumn              252   \n",
       "\n",
       "                  prod_name product_type_name  product_group_name  \\\n",
       "0  Atlanta Push Body Harlow    Underwear body           Underwear   \n",
       "1   Rae Push (Melbourne) 2p               Bra           Underwear   \n",
       "2               Inca Jumper           Sweater  Garment Upper body   \n",
       "3      W YODA KNIT OL OFFER           Sweater  Garment Upper body   \n",
       "4      W YODA KNIT OL OFFER           Sweater  Garment Upper body   \n",
       "\n",
       "  colour_group_name      department_name                section_name  \n",
       "0             Black  Expressive Lingerie             Womens Lingerie  \n",
       "1        Light Pink      Casual Lingerie             Womens Lingerie  \n",
       "2              Pink     Tops Knitwear DS            Divided Selected  \n",
       "3              Pink            Campaigns  Womens Everyday Collection  \n",
       "4        Dark Green            Campaigns  Womens Everyday Collection  "
      ]
     },
     "execution_count": 10,
     "metadata": {},
     "output_type": "execute_result"
    }
   ],
   "source": [
    "X.head()"
   ]
  },
  {
   "cell_type": "code",
   "execution_count": 11,
   "id": "b780fed7",
   "metadata": {},
   "outputs": [
    {
     "data": {
      "text/plain": [
       "82"
      ]
     },
     "execution_count": 11,
     "metadata": {},
     "output_type": "execute_result"
    }
   ],
   "source": [
    "X['product_type_name'].nunique()"
   ]
  },
  {
   "cell_type": "code",
   "execution_count": 12,
   "id": "8b184a67",
   "metadata": {},
   "outputs": [
    {
     "data": {
      "text/plain": [
       "13"
      ]
     },
     "execution_count": 12,
     "metadata": {},
     "output_type": "execute_result"
    }
   ],
   "source": [
    "X['product_group_name'].nunique()"
   ]
  },
  {
   "cell_type": "code",
   "execution_count": 13,
   "id": "d9dbba00",
   "metadata": {},
   "outputs": [
    {
     "data": {
      "text/plain": [
       "50"
      ]
     },
     "execution_count": 13,
     "metadata": {},
     "output_type": "execute_result"
    }
   ],
   "source": [
    "X['colour_group_name'].nunique()"
   ]
  },
  {
   "cell_type": "code",
   "execution_count": 14,
   "id": "f1bd2394",
   "metadata": {},
   "outputs": [
    {
     "data": {
      "text/plain": [
       "209"
      ]
     },
     "execution_count": 14,
     "metadata": {},
     "output_type": "execute_result"
    }
   ],
   "source": [
    "X['department_name'].nunique()"
   ]
  },
  {
   "cell_type": "code",
   "execution_count": 15,
   "id": "3708c643",
   "metadata": {},
   "outputs": [
    {
     "data": {
      "text/plain": [
       "54"
      ]
     },
     "execution_count": 15,
     "metadata": {},
     "output_type": "execute_result"
    }
   ],
   "source": [
    "X['section_name'].nunique()"
   ]
  },
  {
   "cell_type": "code",
   "execution_count": 16,
   "id": "28ccf20c",
   "metadata": {},
   "outputs": [],
   "source": [
    "X = X.drop(['t_dat','product_type_no','prod_name','colour_group_name','department_name'], axis=1)"
   ]
  },
  {
   "cell_type": "code",
   "execution_count": 17,
   "id": "c773a3df",
   "metadata": {},
   "outputs": [
    {
     "data": {
      "text/html": [
       "<div>\n",
       "<style scoped>\n",
       "    .dataframe tbody tr th:only-of-type {\n",
       "        vertical-align: middle;\n",
       "    }\n",
       "\n",
       "    .dataframe tbody tr th {\n",
       "        vertical-align: top;\n",
       "    }\n",
       "\n",
       "    .dataframe thead th {\n",
       "        text-align: right;\n",
       "    }\n",
       "</style>\n",
       "<table border=\"1\" class=\"dataframe\">\n",
       "  <thead>\n",
       "    <tr style=\"text-align: right;\">\n",
       "      <th></th>\n",
       "      <th>customer_id</th>\n",
       "      <th>article_id</th>\n",
       "      <th>price</th>\n",
       "      <th>sales_channel_id</th>\n",
       "      <th>month</th>\n",
       "      <th>year</th>\n",
       "      <th>day</th>\n",
       "      <th>season</th>\n",
       "      <th>product_type_name</th>\n",
       "      <th>product_group_name</th>\n",
       "      <th>section_name</th>\n",
       "    </tr>\n",
       "  </thead>\n",
       "  <tbody>\n",
       "    <tr>\n",
       "      <th>0</th>\n",
       "      <td>000058a12d5b43e67d225668fa1f8d618c13dc232df0ca...</td>\n",
       "      <td>663713001</td>\n",
       "      <td>0.050831</td>\n",
       "      <td>2</td>\n",
       "      <td>9</td>\n",
       "      <td>2018</td>\n",
       "      <td>20</td>\n",
       "      <td>Autumn</td>\n",
       "      <td>Underwear body</td>\n",
       "      <td>Underwear</td>\n",
       "      <td>Womens Lingerie</td>\n",
       "    </tr>\n",
       "    <tr>\n",
       "      <th>1</th>\n",
       "      <td>000058a12d5b43e67d225668fa1f8d618c13dc232df0ca...</td>\n",
       "      <td>541518023</td>\n",
       "      <td>0.030492</td>\n",
       "      <td>2</td>\n",
       "      <td>9</td>\n",
       "      <td>2018</td>\n",
       "      <td>20</td>\n",
       "      <td>Autumn</td>\n",
       "      <td>Bra</td>\n",
       "      <td>Underwear</td>\n",
       "      <td>Womens Lingerie</td>\n",
       "    </tr>\n",
       "    <tr>\n",
       "      <th>2</th>\n",
       "      <td>00007d2de826758b65a93dd24ce629ed66842531df6699...</td>\n",
       "      <td>505221004</td>\n",
       "      <td>0.015237</td>\n",
       "      <td>2</td>\n",
       "      <td>9</td>\n",
       "      <td>2018</td>\n",
       "      <td>20</td>\n",
       "      <td>Autumn</td>\n",
       "      <td>Sweater</td>\n",
       "      <td>Garment Upper body</td>\n",
       "      <td>Divided Selected</td>\n",
       "    </tr>\n",
       "    <tr>\n",
       "      <th>3</th>\n",
       "      <td>00007d2de826758b65a93dd24ce629ed66842531df6699...</td>\n",
       "      <td>685687003</td>\n",
       "      <td>0.016932</td>\n",
       "      <td>2</td>\n",
       "      <td>9</td>\n",
       "      <td>2018</td>\n",
       "      <td>20</td>\n",
       "      <td>Autumn</td>\n",
       "      <td>Sweater</td>\n",
       "      <td>Garment Upper body</td>\n",
       "      <td>Womens Everyday Collection</td>\n",
       "    </tr>\n",
       "    <tr>\n",
       "      <th>4</th>\n",
       "      <td>00007d2de826758b65a93dd24ce629ed66842531df6699...</td>\n",
       "      <td>685687004</td>\n",
       "      <td>0.016932</td>\n",
       "      <td>2</td>\n",
       "      <td>9</td>\n",
       "      <td>2018</td>\n",
       "      <td>20</td>\n",
       "      <td>Autumn</td>\n",
       "      <td>Sweater</td>\n",
       "      <td>Garment Upper body</td>\n",
       "      <td>Womens Everyday Collection</td>\n",
       "    </tr>\n",
       "  </tbody>\n",
       "</table>\n",
       "</div>"
      ],
      "text/plain": [
       "                                         customer_id  article_id     price  \\\n",
       "0  000058a12d5b43e67d225668fa1f8d618c13dc232df0ca...   663713001  0.050831   \n",
       "1  000058a12d5b43e67d225668fa1f8d618c13dc232df0ca...   541518023  0.030492   \n",
       "2  00007d2de826758b65a93dd24ce629ed66842531df6699...   505221004  0.015237   \n",
       "3  00007d2de826758b65a93dd24ce629ed66842531df6699...   685687003  0.016932   \n",
       "4  00007d2de826758b65a93dd24ce629ed66842531df6699...   685687004  0.016932   \n",
       "\n",
       "   sales_channel_id  month  year  day  season product_type_name  \\\n",
       "0                 2      9  2018   20  Autumn    Underwear body   \n",
       "1                 2      9  2018   20  Autumn               Bra   \n",
       "2                 2      9  2018   20  Autumn           Sweater   \n",
       "3                 2      9  2018   20  Autumn           Sweater   \n",
       "4                 2      9  2018   20  Autumn           Sweater   \n",
       "\n",
       "   product_group_name                section_name  \n",
       "0           Underwear             Womens Lingerie  \n",
       "1           Underwear             Womens Lingerie  \n",
       "2  Garment Upper body            Divided Selected  \n",
       "3  Garment Upper body  Womens Everyday Collection  \n",
       "4  Garment Upper body  Womens Everyday Collection  "
      ]
     },
     "execution_count": 17,
     "metadata": {},
     "output_type": "execute_result"
    }
   ],
   "source": [
    "X.head()"
   ]
  },
  {
   "cell_type": "code",
   "execution_count": 18,
   "id": "ea7eceab",
   "metadata": {},
   "outputs": [],
   "source": [
    "X = pd.get_dummies(X, columns = ['season','product_type_name','product_group_name','section_name'])"
   ]
  },
  {
   "cell_type": "code",
   "execution_count": 19,
   "id": "d519bf48",
   "metadata": {},
   "outputs": [
    {
     "data": {
      "text/plain": [
       "(20000, 157)"
      ]
     },
     "execution_count": 19,
     "metadata": {},
     "output_type": "execute_result"
    }
   ],
   "source": [
    "X.shape"
   ]
  },
  {
   "cell_type": "code",
   "execution_count": 20,
   "id": "ed507c3f",
   "metadata": {},
   "outputs": [],
   "source": [
    "X = X.merge(df_c[['customer_id','age']], how = 'left', on = 'customer_id')"
   ]
  },
  {
   "cell_type": "code",
   "execution_count": 21,
   "id": "a0b27325",
   "metadata": {},
   "outputs": [
    {
     "data": {
      "text/plain": [
       "0        24.0\n",
       "1        24.0\n",
       "2        32.0\n",
       "3        32.0\n",
       "4        32.0\n",
       "         ... \n",
       "19995    23.0\n",
       "19996    23.0\n",
       "19997    23.0\n",
       "19998    52.0\n",
       "19999    52.0\n",
       "Name: age, Length: 20000, dtype: float64"
      ]
     },
     "execution_count": 21,
     "metadata": {},
     "output_type": "execute_result"
    }
   ],
   "source": [
    "X['age']"
   ]
  },
  {
   "cell_type": "code",
   "execution_count": 22,
   "id": "837d4ac2",
   "metadata": {},
   "outputs": [],
   "source": [
    "splitrange = round(0.75*len(transactions_df['customer_id']))\n",
    "splitrange2 = round(0.95*len(transactions_df['customer_id']))\n",
    "\n",
    "train = X.iloc[:splitrange]\n",
    "valid = X.iloc[splitrange+1:splitrange2]\n",
    "test = X.iloc[splitrange2:]"
   ]
  },
  {
   "cell_type": "markdown",
   "id": "af61b408",
   "metadata": {},
   "source": [
    "## Now we need to define customer og articles so i match with the features:"
   ]
  },
  {
   "cell_type": "code",
   "execution_count": 25,
   "id": "d9b8186b",
   "metadata": {},
   "outputs": [],
   "source": [
    "#df_a_sub = df_a.drop([])\n",
    "articles_sub = articles_df[['article_id']].values.flatten()\n",
    "customers_sub = customer_df[['customer_id']].values.flatten()"
   ]
  },
  {
   "cell_type": "code",
   "execution_count": 26,
   "id": "be614f2d",
   "metadata": {},
   "outputs": [],
   "source": [
    "class SimpleRecommender(tf.keras.Model):\n",
    "    def __init__(self, customers_sub, articles_sub, embedding_dim):\n",
    "        super(SimpleRecommender, self).__init__()\n",
    "        self.articles = tf.constant(articles_sub, dtype=tf.int32)\n",
    "        self.customers = tf.constant(customers_sub, dtype=tf.string)\n",
    "\n",
    "        self.article_table = tf.lookup.StaticHashTable(tf.lookup.KeyValueTensorInitializer(self.articles, range(len(articles_sub))),-1)\n",
    "        self.customer_table = tf.lookup.StaticHashTable(tf.lookup.KeyValueTensorInitializer(self.customers, range(len(customers_sub))),-1)\n",
    "\n",
    "        self.customer_embed = tf.keras.layers.Embedding(len(customers_sub),embedding_dim)\n",
    "\n",
    "        self.articles_embed = tf.keras.layers.Embedding(len(articles_sub),embedding_dim)\n",
    "\n",
    "        self.dot = tf.keras.layers.Dot(axes=-1)\n",
    "\n",
    "    def call(self, inputs):\n",
    "        user = inputs[0]\n",
    "        article = inputs[1]\n",
    "\n",
    "        customer_embedding_index = self.customer_table.lookup(user)\n",
    "        article_embedding_index = self.article_table.lookup(article)\n",
    "\n",
    "        customer_embbeding_values = self.customer_embed(customer_embedding_index)\n",
    "        article_embedding_values = self.articles_embed(article_embedding_index)\n",
    "\n",
    "        return tf.squeeze(self.dot([customer_embbeding_values, article_embedding_values]),1)\n",
    "    \n",
    "    def call_item_item(self, article):\n",
    "        article_x = self.article_table.lookup(article)\n",
    "        article_embeddings = tf.expand_dims(self.articles_embed(article_x),0)\n",
    "        all_articles_embeddings = tf.expand_dims(self.articles_embed.embeddings,0)\n",
    "        scores = tf.reshape(self.dot([article_embeddings, all_articles_embeddings]), [-1])\n",
    "\n",
    "        top_scores, top_indeces = tf.math.top_k(scores, k = 100)\n",
    "        top_ids = tf.gather(self.articles, top_indeces)\n",
    "        return top_ids, top_scores\n",
    "    def Customer_recommendation(self, customer, k):\n",
    "        customer_x = self.customer_table.lookup(customer)\n",
    "        customer_embeddings = tf.expand_dims(self.customer_embed(customer_x),0)\n",
    "        all_articles_embeddings = tf.expand_dims(self.articles_embed.embeddings,0)\n",
    "        scores = tf.reshape(self.dot([customer_embeddings, all_articles_embeddings]), [-1])\n",
    "\n",
    "        top_scores, top_indeces = tf.math.top_k(scores, k = k)\n",
    "        top_ids = tf.gather(self.articles, top_indeces)\n",
    "        return top_ids, top_scores"
   ]
  },
  {
   "cell_type": "code",
   "execution_count": 27,
   "id": "bf0dd35a",
   "metadata": {},
   "outputs": [],
   "source": [
    "class Mapper():\n",
    "    def __init__(self, possible_articles, num_negative_articles):\n",
    "        self.num_possible_articles = len(possible_articles)\n",
    "        self.possible_articles_tensor = tf.constant(possible_articles, dtype=tf.int32)\n",
    "        self.num_negative_articles = num_negative_articles\n",
    "        self.y = tf.one_hot(0, num_negative_articles+1)\n",
    "    def __call__(self, customer, article):\n",
    "        random_negatives_indexes  = tf.random.uniform((self.num_negative_articles,),minval = 0, maxval = self.num_possible_articles , dtype = tf.int32) \n",
    "        negative_products =  tf.gather(self.possible_articles_tensor, random_negatives_indexes)\n",
    "        candidates = tf.concat([article, negative_products], axis = 0)\n",
    "        return (customer, candidates), self.y\n"
   ]
  },
  {
   "cell_type": "code",
   "execution_count": 29,
   "id": "cc15c4b8",
   "metadata": {},
   "outputs": [
    {
     "name": "stdout",
     "output_type": "stream",
     "text": [
      "tf.Tensor(\n",
      "[[b'000058a12d5b43e67d225668fa1f8d618c13dc232df0cad8ffe7ad4a1091e318']\n",
      " [b'000058a12d5b43e67d225668fa1f8d618c13dc232df0cad8ffe7ad4a1091e318']\n",
      " [b'00007d2de826758b65a93dd24ce629ed66842531df6699338c5570910a014cc2']\n",
      " ...\n",
      " [b'05d0c63e8a3ff46f9519e38f1af70007d474650975ef40f002a4c060a99b530d']\n",
      " [b'05da4959e37b89f92911a98e4b5a94be73a77e6d64a19440b96b05c754da115b']\n",
      " [b'05da4959e37b89f92911a98e4b5a94be73a77e6d64a19440b96b05c754da115b']], shape=(1024, 1), dtype=string)\n",
      "tf.Tensor(\n",
      "[[663713001 594581039 667772006 696944015 564787008]\n",
      " [541518023 711158003 612789001 832830001 806137005]\n",
      " [505221004 648254002 291957009 686720005 842056002]\n",
      " ...\n",
      " [474138001 635392003 747138002 752554001 839310001]\n",
      " [625480002 557546005 711727010 648932002 855935005]\n",
      " [522398050 598655008 612077005 609655003 508935032]], shape=(1024, 5), dtype=int32)\n",
      "tf.Tensor(\n",
      "[[1. 0. 0. 0. 0.]\n",
      " [1. 0. 0. 0. 0.]\n",
      " [1. 0. 0. 0. 0.]\n",
      " ...\n",
      " [1. 0. 0. 0. 0.]\n",
      " [1. 0. 0. 0. 0.]\n",
      " [1. 0. 0. 0. 0.]], shape=(1024, 5), dtype=float32)\n"
     ]
    }
   ],
   "source": [
    "def get_dataset(df, articles, number_negative_articles):\n",
    "    dummy_customer_tensor = tf.constant(df[['customer_id']].values, dtype =tf.string)\n",
    "    article_tensor = tf.constant(df[['article_id']].values,dtype=tf.int32)\n",
    "\n",
    "    dataset = tf.data.Dataset.from_tensor_slices((dummy_customer_tensor,article_tensor))\n",
    "    dataset = dataset.map(Mapper(articles, number_negative_articles)) \n",
    "    dataset = dataset.batch(1024)\n",
    "    return dataset \n",
    "\n",
    "for (customer, candidate), y in get_dataset(train,articles_sub,4):\n",
    "    print(customer)\n",
    "    print(candidate)\n",
    "    print(y)\n",
    "    break\n"
   ]
  },
  {
   "cell_type": "code",
   "execution_count": 32,
   "id": "e68f1867",
   "metadata": {},
   "outputs": [
    {
     "name": "stdout",
     "output_type": "stream",
     "text": [
      "Epoch 1/5\n",
      "20/20 [==============================] - 1s 35ms/step - loss: 4.6152 - categorical_accuracy: 0.0118\n",
      "Epoch 2/5\n",
      "20/20 [==============================] - 1s 36ms/step - loss: 4.6117 - categorical_accuracy: 0.1158\n",
      "Epoch 3/5\n",
      "20/20 [==============================] - 1s 34ms/step - loss: 4.6042 - categorical_accuracy: 0.3294\n",
      "Epoch 4/5\n",
      "20/20 [==============================] - 1s 34ms/step - loss: 4.5708 - categorical_accuracy: 0.5491\n",
      "Epoch 5/5\n",
      "20/20 [==============================] - 1s 38ms/step - loss: 4.4603 - categorical_accuracy: 0.6829\n"
     ]
    },
    {
     "data": {
      "text/plain": [
       "<keras.callbacks.History at 0x1af00524130>"
      ]
     },
     "execution_count": 32,
     "metadata": {},
     "output_type": "execute_result"
    }
   ],
   "source": [
    "model = SimpleRecommender(customers_sub, articles_sub, 15)\n",
    "model.compile(loss= tf.keras.losses.CategoricalCrossentropy(from_logits=True), \n",
    "            optimizer=tf.keras.optimizers.SGD(learning_rate = 100.), \n",
    "            metrics=[tf.keras.metrics.CategoricalAccuracy()])\n",
    "\n",
    "model.fit(get_dataset(train, articles_sub, 100), validation_data = get_dataset(valid, articles_sub,100), epochs =5)\n"
   ]
  },
  {
   "cell_type": "code",
   "execution_count": 41,
   "id": "d6d9eb74",
   "metadata": {},
   "outputs": [
    {
     "ename": "AttributeError",
     "evalue": "'str' object has no attribute 'dtype'",
     "output_type": "error",
     "traceback": [
      "\u001b[1;31m---------------------------------------------------------------------------\u001b[0m",
      "\u001b[1;31mAttributeError\u001b[0m                            Traceback (most recent call last)",
      "Input \u001b[1;32mIn [41]\u001b[0m, in \u001b[0;36m<cell line: 1>\u001b[1;34m()\u001b[0m\n\u001b[1;32m----> 1\u001b[0m \u001b[43mmodel\u001b[49m\u001b[38;5;241;43m.\u001b[39;49m\u001b[43mCustomer_recommendation\u001b[49m\u001b[43m(\u001b[49m\u001b[43mcustomers_sub\u001b[49m\u001b[43m[\u001b[49m\u001b[38;5;241;43m10000\u001b[39;49m\u001b[43m]\u001b[49m\u001b[43m,\u001b[49m\u001b[38;5;241;43m5\u001b[39;49m\u001b[43m)\u001b[49m\n",
      "Input \u001b[1;32mIn [26]\u001b[0m, in \u001b[0;36mSimpleRecommender.Customer_recommendation\u001b[1;34m(self, customer, k)\u001b[0m\n\u001b[0;32m     37\u001b[0m \u001b[38;5;28;01mdef\u001b[39;00m \u001b[38;5;21mCustomer_recommendation\u001b[39m(\u001b[38;5;28mself\u001b[39m, customer, k):\n\u001b[1;32m---> 38\u001b[0m     customer_x \u001b[38;5;241m=\u001b[39m \u001b[38;5;28;43mself\u001b[39;49m\u001b[38;5;241;43m.\u001b[39;49m\u001b[43mcustomer_table\u001b[49m\u001b[38;5;241;43m.\u001b[39;49m\u001b[43mlookup\u001b[49m\u001b[43m(\u001b[49m\u001b[43mcustomer\u001b[49m\u001b[43m)\u001b[49m\n\u001b[0;32m     39\u001b[0m     customer_embeddings \u001b[38;5;241m=\u001b[39m tf\u001b[38;5;241m.\u001b[39mexpand_dims(\u001b[38;5;28mself\u001b[39m\u001b[38;5;241m.\u001b[39mcustomer_embed(customer_x),\u001b[38;5;241m0\u001b[39m)\n\u001b[0;32m     40\u001b[0m     all_articles_embeddings \u001b[38;5;241m=\u001b[39m tf\u001b[38;5;241m.\u001b[39mexpand_dims(\u001b[38;5;28mself\u001b[39m\u001b[38;5;241m.\u001b[39marticles_embed\u001b[38;5;241m.\u001b[39membeddings,\u001b[38;5;241m0\u001b[39m)\n",
      "File \u001b[1;32m~\\miniconda3\\envs\\MasterThesis\\lib\\site-packages\\tensorflow\\python\\ops\\lookup_ops.py:249\u001b[0m, in \u001b[0;36mInitializableLookupTableBase.lookup\u001b[1;34m(self, keys, name)\u001b[0m\n\u001b[0;32m    245\u001b[0m \u001b[38;5;28;01mif\u001b[39;00m \u001b[38;5;28misinstance\u001b[39m(keys,\n\u001b[0;32m    246\u001b[0m               (sparse_tensor\u001b[38;5;241m.\u001b[39mSparseTensor, ragged_tensor\u001b[38;5;241m.\u001b[39mRaggedTensor)):\n\u001b[0;32m    247\u001b[0m   key_tensor \u001b[38;5;241m=\u001b[39m keys\u001b[38;5;241m.\u001b[39mvalues\n\u001b[1;32m--> 249\u001b[0m \u001b[38;5;28;01mif\u001b[39;00m \u001b[43mkeys\u001b[49m\u001b[38;5;241;43m.\u001b[39;49m\u001b[43mdtype\u001b[49m\u001b[38;5;241m.\u001b[39mbase_dtype \u001b[38;5;241m!=\u001b[39m \u001b[38;5;28mself\u001b[39m\u001b[38;5;241m.\u001b[39m_key_dtype:\n\u001b[0;32m    250\u001b[0m   \u001b[38;5;28;01mraise\u001b[39;00m \u001b[38;5;167;01mTypeError\u001b[39;00m(\u001b[38;5;124mf\u001b[39m\u001b[38;5;124m\"\u001b[39m\u001b[38;5;124mDtype of argument `keys` must be \u001b[39m\u001b[38;5;132;01m{\u001b[39;00m\u001b[38;5;28mself\u001b[39m\u001b[38;5;241m.\u001b[39m_key_dtype\u001b[38;5;132;01m}\u001b[39;00m\u001b[38;5;124m, \u001b[39m\u001b[38;5;124m\"\u001b[39m\n\u001b[0;32m    251\u001b[0m                   \u001b[38;5;124mf\u001b[39m\u001b[38;5;124m\"\u001b[39m\u001b[38;5;124mreceived: \u001b[39m\u001b[38;5;132;01m{\u001b[39;00mkeys\u001b[38;5;241m.\u001b[39mdtype\u001b[38;5;132;01m}\u001b[39;00m\u001b[38;5;124m\"\u001b[39m)\n\u001b[0;32m    253\u001b[0m \u001b[38;5;28;01mwith\u001b[39;00m ops\u001b[38;5;241m.\u001b[39mname_scope(\n\u001b[0;32m    254\u001b[0m     name, \u001b[38;5;124m\"\u001b[39m\u001b[38;5;132;01m%s\u001b[39;00m\u001b[38;5;124m_Lookup\u001b[39m\u001b[38;5;124m\"\u001b[39m \u001b[38;5;241m%\u001b[39m \u001b[38;5;28mself\u001b[39m\u001b[38;5;241m.\u001b[39mname,\n\u001b[0;32m    255\u001b[0m     (\u001b[38;5;28mself\u001b[39m\u001b[38;5;241m.\u001b[39mresource_handle, key_tensor, \u001b[38;5;28mself\u001b[39m\u001b[38;5;241m.\u001b[39m_default_value)):\n",
      "\u001b[1;31mAttributeError\u001b[0m: 'str' object has no attribute 'dtype'"
     ]
    }
   ],
   "source": [
    "model.Customer_recommendation(customers_sub[10000],5)"
   ]
  },
  {
   "cell_type": "code",
   "execution_count": null,
   "id": "a1cfac83",
   "metadata": {},
   "outputs": [],
   "source": []
  }
 ],
 "metadata": {
  "kernelspec": {
   "display_name": "Python 3 (ipykernel)",
   "language": "python",
   "name": "python3"
  },
  "language_info": {
   "codemirror_mode": {
    "name": "ipython",
    "version": 3
   },
   "file_extension": ".py",
   "mimetype": "text/x-python",
   "name": "python",
   "nbconvert_exporter": "python",
   "pygments_lexer": "ipython3",
   "version": "3.9.12"
  }
 },
 "nbformat": 4,
 "nbformat_minor": 5
}
