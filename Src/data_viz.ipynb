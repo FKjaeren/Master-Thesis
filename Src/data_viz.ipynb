{
 "cells": [
  {
   "cell_type": "code",
   "execution_count": null,
   "metadata": {},
   "outputs": [
    {
     "ename": "",
     "evalue": "",
     "output_type": "error",
     "traceback": [
      "\u001b[1;31mRunning cells with 'Python 3.9.12 ('MasterThesis')' requires ipykernel package.\n",
      "\u001b[1;31mRun the following command to install 'ipykernel' into the Python environment. \n",
      "\u001b[1;31mCommand: 'conda install -n MasterThesis ipykernel --update-deps --force-reinstall'"
     ]
    }
   ],
   "source": [
    "\n",
    "import numpy as np \n",
    "import pandas as pd\n",
    "\n",
    "import matplotlib.pyplot as plt\n",
    "\n",
    "import seaborn as sns\n",
    "data_path = 'C:/Users/jonas/Desktop/Master-ThesisData/Data/Raw/articles_subset.csv'\n",
    "\n",
    "\"\"\" \n",
    "df_a = pd.read_csv(data_path+'article_df_numeric_subset.csv', index_col=0)\n",
    "df_c = pd.read_csv(data_path+'df_c.csv', index_col=0)\n",
    "df_t = pd.read_csv(data_path+'df_t.csv', index_col=0)\n",
    " \"\"\"\n",
    "\n",
    "df_a = pd.read_csv(data_path, index_col=0)\n",
    "#df_t = pd.read_csv(data_path + 'transactions_train.csv', index_col=0)\n",
    "\n",
    "\n"
   ]
  },
  {
   "cell_type": "code",
   "execution_count": 16,
   "metadata": {},
   "outputs": [
    {
     "data": {
      "text/plain": [
       "'..Data/Raw/articles_subset.csv'"
      ]
     },
     "execution_count": 16,
     "metadata": {},
     "output_type": "execute_result"
    }
   ],
   "source": [
    "data_path"
   ]
  },
  {
   "cell_type": "code",
   "execution_count": null,
   "metadata": {},
   "outputs": [],
   "source": [
    "\n",
    "# calculate number of sold products\n",
    "sold_count = df_t['article_id'].value_counts()\n",
    "sold_count=sold_count.reset_index()\n",
    "sold_count.rename(columns = {\"article_id\":\"sold_count\",\"index\":\"article_id\"}, inplace=True)\n",
    "\n",
    "# create a dataframe with articles and sold count\n",
    "df_sold = df_a.merge(sold_count, on= 'article_id', how='left')\n",
    "df_sold = df_sold.sort_values(by='sold_count', ascending=False)"
   ]
  },
  {
   "cell_type": "code",
   "execution_count": null,
   "metadata": {},
   "outputs": [],
   "source": [
    "\n",
    "top20 = df_sold.iloc[:20]\n",
    "\n",
    "\n",
    "pivot1 = pd.pivot_table(top20, index= [\"prod_name\"], values='sold_count', aggfunc=np.sum)\n",
    "pivot1 = pivot1.reset_index()\n",
    "pivot1 = pivot1.sort_values(\"sold_count\", ascending=False)\n",
    "\n",
    "\"\"\" \n",
    "ax = sns.barplot(x=\"prod_name\", y=\"sold_count\", data=pivot1)\n",
    "plt.setp(ax.get_xticklabels(), rotation=90)\n",
    "plt.show() \"\"\"\n",
    "\n",
    "\n",
    "pivot2 = pd.pivot_table(top20, index= [\"department_name\"], values='sold_count', aggfunc=np.sum)\n",
    "pivot2 = pivot2.reset_index()\n",
    "pivot2 = pivot2.sort_values(\"sold_count\", ascending=False)\n",
    "\n",
    "pivot3 = pd.pivot_table(top20, index= [\"colour_group_name\"], values='sold_count', aggfunc=np.sum)\n",
    "pivot3 = pivot3.reset_index()\n",
    "pivot3 = pivot3.sort_values(\"sold_count\", ascending=False)\n",
    "\n",
    "fig, axes = plt.subplots(2, 2, figsize=(5, 5), sharey=True)\n",
    "fig.suptitle('Popular article characteristics')\n",
    "\n",
    "\n",
    "# popular products\n",
    "sns.barplot(ax=axes[0,0], x=\"prod_name\", y=\"sold_count\", data=pivot1)\n",
    "axes[0,0].set_title(\"Articles\")\n",
    "\n",
    "\n",
    "# popular departments\n",
    "sns.barplot(ax=axes[0,1], x=\"department_name\", y=\"sold_count\", data=pivot2)\n",
    "axes[1,0].set_title(\"Department\")\n",
    "\n",
    "# popular colours\n",
    "sns.barplot(ax=axes[1,0], x=\"colour_group_name\", y=\"sold_count\", data=pivot3)\n",
    "axes[1,1].set_title(\"Colour\")\n",
    "\n",
    "fig.show()"
   ]
  }
 ],
 "metadata": {
  "kernelspec": {
   "display_name": "Python 3.9.12 ('MasterThesis')",
   "language": "python",
   "name": "python3"
  },
  "language_info": {
   "codemirror_mode": {
    "name": "ipython",
    "version": 3
   },
   "file_extension": ".py",
   "mimetype": "text/x-python",
   "name": "python",
   "nbconvert_exporter": "python",
   "pygments_lexer": "ipython3",
   "version": "3.9.12"
  },
  "orig_nbformat": 4,
  "vscode": {
   "interpreter": {
    "hash": "aa0613546942c7f5f7d17e77531d1ec994c67cda56ff3b79b619c8872daec717"
   }
  }
 },
 "nbformat": 4,
 "nbformat_minor": 2
}
